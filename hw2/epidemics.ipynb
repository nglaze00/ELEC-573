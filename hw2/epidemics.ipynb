{
 "cells": [
  {
   "cell_type": "code",
   "execution_count": 33,
   "source": [
    "import networkx as nx\n",
    "from scipy.io import loadmat\n",
    "from scipy.linalg import eig, inv\n",
    "import numpy as np\n",
    "import pandas as pd\n",
    "import matplotlib.pyplot as plt"
   ],
   "outputs": [],
   "metadata": {}
  },
  {
   "cell_type": "markdown",
   "source": [
    "## a) Construct a network from the flight data"
   ],
   "metadata": {}
  },
  {
   "cell_type": "code",
   "execution_count": 22,
   "source": [
    "node_metadata = pd.read_csv('data/epidemics/airport_Nodes_GC.csv')\n",
    "edge_data = pd.read_csv('data/epidemics/airport_Edzzges_GC.csv')\n",
    "\n",
    "node_id_map = {given_id: node_id for (given_id, node_id) in zip(node_metadata.Id, node_metadata.index)}"
   ],
   "outputs": [],
   "metadata": {}
  },
  {
   "cell_type": "code",
   "execution_count": 40,
   "source": [
    "# build directed adjacency matrix\n",
    "n_nodes = node_metadata.Id.nunique()\n",
    "A_dir = np.zeros((n_nodes, n_nodes))\n",
    "\n",
    "for idx, row in edge_data.iterrows():\n",
    "    u, v, weight = node_id_map[row.Source], node_id_map[row.Target], row.Weight\n",
    "    A_dir[u, v] = weight\n",
    "\n",
    "# Symmetrize adjacency matrix\n",
    "A = (A_dir + A_dir.T) / 2\n",
    "\n",
    "# verify that the graph is connected\n",
    "G = nx.from_numpy_matrix(A)\n",
    "print('Connected graph' if nx.components.is_connected(G) else 'Disconnected graph')\n",
    "print('Nodes: {} \\nEdges: {}'.format(len(A), np.count_nonzero(A) // 2))"
   ],
   "outputs": [
    {
     "output_type": "stream",
     "name": "stdout",
     "text": [
      "Connected graph\n",
      "Nodes: 2905 \n",
      "Edges: 15645\n"
     ]
    }
   ],
   "metadata": {}
  },
  {
   "cell_type": "markdown",
   "source": [
    "## b) Plot the airport network"
   ],
   "metadata": {}
  },
  {
   "cell_type": "markdown",
   "source": [
    "## d) Mean-field approximation"
   ],
   "metadata": {}
  },
  {
   "cell_type": "markdown",
   "source": [
    "## e) Minimum number of immunizations"
   ],
   "metadata": {}
  }
 ],
 "metadata": {
  "orig_nbformat": 4,
  "language_info": {
   "name": "python",
   "version": "3.9.5",
   "mimetype": "text/x-python",
   "codemirror_mode": {
    "name": "ipython",
    "version": 3
   },
   "pygments_lexer": "ipython3",
   "nbconvert_exporter": "python",
   "file_extension": ".py"
  },
  "kernelspec": {
   "name": "python3",
   "display_name": "Python 3.9.5 64-bit"
  },
  "interpreter": {
   "hash": "916dbcbb3f70747c44a77c7bcd40155683ae19c65e1c03b4aa3499c5328201f1"
  }
 },
 "nbformat": 4,
 "nbformat_minor": 2
}