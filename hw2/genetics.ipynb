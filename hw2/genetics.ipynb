{
 "cells": [
  {
   "cell_type": "code",
   "execution_count": 1,
   "metadata": {},
   "outputs": [],
   "source": [
    "from scipy.io import loadmat\n",
    "from scipy.linalg import eigh, inv\n",
    "import numpy as np\n",
    "import matplotlib.pyplot as plt"
   ]
  },
  {
   "cell_type": "markdown",
   "metadata": {},
   "source": [
    "## Load graph dataset"
   ]
  },
  {
   "cell_type": "code",
   "execution_count": 2,
   "metadata": {},
   "outputs": [
    {
     "data": {
      "text/plain": [
       "'Shapes: A: (2458, 2458), X: (2458, 240), y: (240, 1)'"
      ]
     },
     "execution_count": 2,
     "metadata": {},
     "output_type": "execute_result"
    }
   ],
   "source": [
    "# load gene network\n",
    "gene_network = loadmat('data/genetics/geneNetwork_rawPCNCI.mat')\n",
    "A = gene_network['geneNetwork_rawPCNCI'].astype(np.int32)\n",
    "\n",
    "# load signal dataset \n",
    "signals = loadmat('data/genetics/signal_mutation.mat')\n",
    "X = signals['signal_mutation'].T.astype(np.float32)\n",
    "\n",
    "# load phenotypes (labels)\n",
    "phenotypes = loadmat('data/genetics/histology_subtype.mat')\n",
    "y = phenotypes['histology_subtype']\n",
    "\n",
    "'Shapes: A: {}, X: {}, y: {}'.format(A.shape, X.shape, y.shape)"
   ]
  },
  {
   "cell_type": "markdown",
   "metadata": {},
   "source": [
    "## a) Distinguishing power"
   ]
  },
  {
   "cell_type": "code",
   "execution_count": 3,
   "metadata": {},
   "outputs": [
    {
     "name": "stdout",
     "output_type": "stream",
     "text": [
      "L1 norm between L and V @ W @ V.T: -1.1059060844845216e-11\n"
     ]
    }
   ],
   "source": [
    "# Compute Laplacian as shift matrix\n",
    "D = np.diag(A.sum(axis=1))\n",
    "L = D - A\n",
    "S = L\n",
    "\n",
    "# Diagonalize S (reorder evals from largest to smallest)\n",
    "w, V = [x.real for x in eigh(S)] # imag parts are float errors\n",
    "\n",
    "eval_idxs = w.argsort()[::-1]\n",
    "w = w[eval_idxs]\n",
    "V = V[:, eval_idxs]\n",
    "Vinv = inv(V)\n",
    "W = np.diag(w)\n",
    "\n",
    "# verify diagonalization (should be near 0, due to float errors)\n",
    "print('L1 norm between L and V @ W @ V.T: {}'.format((L - np.dot(np.dot(V, W), V.T)).sum()))"
   ]
  },
  {
   "cell_type": "code",
   "execution_count": 4,
   "metadata": {},
   "outputs": [
    {
     "name": "stdout",
     "output_type": "stream",
     "text": [
      "Error after V @ V.T @ X: 2.597309707726293e-13\n"
     ]
    }
   ],
   "source": [
    "X_gft = V.T @ X # x_gft[i, j] is coefficient of ith freq for jth sample\n",
    "\n",
    "# verify GFT is valid (should be near 0)\n",
    "print('Error after V @ V.T @ X: {}'.format(np.linalg.norm(X - (V @ X_gft))))"
   ]
  },
  {
   "cell_type": "code",
   "execution_count": 5,
   "metadata": {},
   "outputs": [],
   "source": [
    "# label masks\n",
    "mask_1 = (y == 1).astype(int).reshape(y.shape[0])\n",
    "mask_2 = (y == 2).astype(int).reshape(y.shape[0])\n",
    "\n",
    "# mean filter for each label\n",
    "mean_1 = mask_1 / mask_1.sum()\n",
    "mean_2 = mask_2 / mask_2.sum()\n",
    "\n",
    "# L1 norm of each frequency\n",
    "k_L1 = np.linalg.norm(X_gft, ord=1, axis=1)"
   ]
  },
  {
   "cell_type": "code",
   "execution_count": 6,
   "metadata": {},
   "outputs": [],
   "source": [
    "DP = np.absolute((X_gft @ mean_1) - (X_gft @ mean_2)) / k_L1\n",
    "DP = DP.reshape(DP.shape[0])"
   ]
  },
  {
   "cell_type": "code",
   "execution_count": 7,
   "metadata": {},
   "outputs": [
    {
     "data": {
      "text/plain": [
       "array([0.00157598, 0.00429784, 0.00997547, ..., 0.00325669, 0.00510204,\n",
       "       0.00350739])"
      ]
     },
     "execution_count": 7,
     "metadata": {},
     "output_type": "execute_result"
    }
   ],
   "source": [
    "DP"
   ]
  },
  {
   "cell_type": "code",
   "execution_count": 8,
   "metadata": {},
   "outputs": [
    {
     "data": {
      "image/png": "[encoded data removed]",
      "text/plain": [
       "<Figure size 432x288 with 1 Axes>"
      ]
     },
     "metadata": {
      "needs_background": "light"
     },
     "output_type": "display_data"
    }
   ],
   "source": [
    "plt.scatter(range(DP.shape[0]), DP)\n",
    "plt.xlabel('k')\n",
    "plt.ylabel('DP(v_k)')\n",
    "plt.title('DP(v_k) vs. k for all GFT e-vectors');"
   ]
  },
  {
   "cell_type": "markdown",
   "metadata": {},
   "source": [
    "## b) kNN classifier"
   ]
  },
  {
   "cell_type": "code",
   "execution_count": 9,
   "metadata": {},
   "outputs": [],
   "source": [
    "def knn(X, y, k_all):\n",
    "    \"\"\"\n",
    "    Computes the leave-one-out CV accuracy using kNN, for multiple values of k.\n",
    "\n",
    "    X: signals, with shape (n_features, n_samples)\n",
    "    y: labels vector\n",
    "    k_all: the values of k to try for kNN\n",
    "    \"\"\"\n",
    "    # compute pairwise distances between column samples\n",
    "    dists = np.zeros((X.shape[1], X.shape[1])) # dists[i][j] = distance between samples i and j\n",
    "    \n",
    "    for i in range(X.shape[1]):\n",
    "        for j in range(i+1, X.shape[1]):\n",
    "            dist = np.linalg.norm(X[:, i] - X[:, j])\n",
    "            dists[i, j] = dist\n",
    "            dists[j, i] = dist\n",
    "    \n",
    "    # neighbors of each sample, ordered by increasing distance\n",
    "    nns = dists.argsort(axis=1)[:, 1:]\n",
    "\n",
    "    row_idx = np.arange(len(dists)).reshape((len(dists), 1))\n",
    "\n",
    "    # classes of nearest neighbors\n",
    "    y_nns = y[nns][:, :, 0]\n",
    "\n",
    "    k_all = [3, 5, 7]\n",
    "\n",
    "    for k in k_all:\n",
    "        # get most common class from each sample's kNNs\n",
    "        preds = y_nns[:, :k].mean(axis=1) >= 1.5 # True = class 2, False = class 1\n",
    "        print('\\tAccuracy for k = {}: {}'.format(k, (preds == (y - 1)).mean()))"
   ]
  },
  {
   "cell_type": "code",
   "execution_count": 10,
   "metadata": {},
   "outputs": [
    {
     "name": "stdout",
     "output_type": "stream",
     "text": [
      "Using all frequencies:\n",
      "\tAccuracy for k = 3: 0.7111111111111111\n",
      "\tAccuracy for k = 5: 0.7348611111111111\n",
      "\tAccuracy for k = 7: 0.76125\n"
     ]
    }
   ],
   "source": [
    "print('Using all frequencies:')\n",
    "knn(X, y, [3, 5, 7])"
   ]
  },
  {
   "cell_type": "markdown",
   "metadata": {},
   "source": [
    "## c) Filtering almost all frequencies"
   ]
  },
  {
   "cell_type": "code",
   "execution_count": 11,
   "metadata": {},
   "outputs": [],
   "source": [
    "def filter_gft(X_gft, k_idxs, keep_ratio):\n",
    "    \"\"\"\n",
    "    Filters the GFT of a signal matrix to preserve only the top keep_ratio frequencies,\n",
    "        as ordered by k_idxs\n",
    "    \n",
    "    X_gft: the GFT of signal matrix X\n",
    "    k_idxs: priority order with which to keep frequencies\n",
    "    keep_ratio: ratio of frequency coefficients to preserve in the signal GFT\n",
    "\n",
    "    Returns X_gft, but with coefficients for frequencies outside the top keep_ratio set to 0\n",
    "    \"\"\"\n",
    "    \n",
    "    n_keep = int(len(k_idxs) * keep_ratio)\n",
    "    k_top = k_idxs[:n_keep]\n",
    "    print('\\tKept {} frequencies'.format(n_keep))\n",
    "    \n",
    "    # select frequencies to preserve\n",
    "    X_gft_f = np.zeros(X_gft.shape)\n",
    "    X_gft_f[k_top, :] = X_gft[k_top, :]\n",
    "\n",
    "    return X_gft_f"
   ]
  },
  {
   "cell_type": "code",
   "execution_count": 12,
   "metadata": {},
   "outputs": [],
   "source": [
    "def filtered_knn(X_gft, y, k_idxs, keep_ratio, n_nbrs_all):\n",
    "    \"\"\"\n",
    "    Filters the GFT of a signal matrix, then evaluates classification accuracy using kNN\n",
    "\n",
    "    X_gft: the GFT of signal matrix X\n",
    "    y: labels vector\n",
    "    k_idxs: priority order with which to keep frequencies\n",
    "    keep_ratio: ratio of frequency coefficients to preserve in the signal GFT\n",
    "    n_nbrs_all: the different values of k to try for kNN\n",
    "    \"\"\"\n",
    "\n",
    "    # preserve only values at the top frequency\n",
    "    X_gft_f = filter_gft(X_gft, k_idxs, keep_ratio)\n",
    "    \n",
    "    # take iGFT of filtered signal\n",
    "    X_f = V @ X_gft_f\n",
    "    \n",
    "    # kNN\n",
    "    knn(X_f, y, n_nbrs_all)"
   ]
  },
  {
   "cell_type": "code",
   "execution_count": 13,
   "metadata": {},
   "outputs": [
    {
     "name": "stdout",
     "output_type": "stream",
     "text": [
      "k = 2 maximizes distinguishing power\n",
      "\tKept 1 frequencies\n",
      "\tAccuracy for k = 3: 0.6952777777777778\n",
      "\tAccuracy for k = 5: 0.6979166666666666\n",
      "\tAccuracy for k = 7: 0.7111111111111111\n"
     ]
    }
   ],
   "source": [
    "# order frequencies by DP\n",
    "k_idxs = np.argsort(DP)[::-1]\n",
    "print('k = {} maximizes distinguishing power'.format(k_idxs[0]))\n",
    "\n",
    "# try kNN, keeping only the top frequency\n",
    "filtered_knn(X_gft, y, k_idxs, 1 / len(k_idxs), [3, 5, 7])"
   ]
  },
  {
   "cell_type": "code",
   "execution_count": 16,
   "metadata": {},
   "outputs": [
    {
     "name": "stdout",
     "output_type": "stream",
     "text": [
      "With top 0.05 of frequencies (p = 0.95):\n",
      "\tKept 122 frequencies\n",
      "\tAccuracy for k = 3: 0.6820833333333334\n",
      "\tAccuracy for k = 5: 0.6847222222222222\n",
      "\tAccuracy for k = 7: 0.6847222222222222\n",
      "With top 0.1 of frequencies (p = 0.9):\n",
      "\tKept 245 frequencies\n",
      "\tAccuracy for k = 3: 0.6847222222222222\n",
      "\tAccuracy for k = 5: 0.6820833333333334\n",
      "\tAccuracy for k = 7: 0.6794444444444444\n",
      "With top 0.15 of frequencies (p = 0.85):\n",
      "\tKept 368 frequencies\n",
      "\tAccuracy for k = 3: 0.6952777777777778\n",
      "\tAccuracy for k = 5: 0.6952777777777778\n",
      "\tAccuracy for k = 7: 0.69\n",
      "With top 0.2 of frequencies (p = 0.8):\n",
      "\tKept 491 frequencies\n",
      "\tAccuracy for k = 3: 0.6979166666666666\n",
      "\tAccuracy for k = 5: 0.6926388888888889\n",
      "\tAccuracy for k = 7: 0.6873611111111111\n",
      "With top 0.25 of frequencies (p = 0.75):\n",
      "\tKept 614 frequencies\n",
      "\tAccuracy for k = 3: 0.6926388888888889\n",
      "\tAccuracy for k = 5: 0.6926388888888889\n",
      "\tAccuracy for k = 7: 0.6926388888888889\n"
     ]
    }
   ],
   "source": [
    "# try kNN, with other values of p\n",
    "p_all = [0.75, 0.8, 0.85, 0.9, 0.95]\n",
    "\n",
    "for p in p_all[::-1]:\n",
    "    print('With top {} of frequencies (p = {}):'.format(np.round(1 - p, decimals=2), p))\n",
    "    filtered_knn(X_gft, y, k_idxs, 1 - p, [3, 5, 7])"
   ]
  }
 ],
 "metadata": {
  "interpreter": {
   "hash": "0d1c77bf9a7c40408fa6fc0f3c3b14744a3f0c1eeb958fbe919f29b68234122c"
  },
  "kernelspec": {
   "display_name": "Python 3.9.5 64-bit ('working': conda)",
   "name": "python3"
  },
  "language_info": {
   "codemirror_mode": {
    "name": "ipython",
    "version": 3
   },
   "file_extension": ".py",
   "mimetype": "text/x-python",
   "name": "python",
   "nbconvert_exporter": "python",
   "pygments_lexer": "ipython3",
   "version": "3.9.5"
  },
  "orig_nbformat": 4
 },
 "nbformat": 4,
 "nbformat_minor": 2
}
