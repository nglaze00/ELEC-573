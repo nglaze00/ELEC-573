{
 "cells": [
  {
   "cell_type": "code",
   "execution_count": 71,
   "source": [
    "from scipy.io import loadmat\r\n",
    "from scipy.linalg import eig, inv\r\n",
    "import numpy as np\r\n",
    "import matplotlib.pyplot as plt"
   ],
   "outputs": [],
   "metadata": {}
  },
  {
   "cell_type": "markdown",
   "source": [
    "## Load graph dataset"
   ],
   "metadata": {}
  },
  {
   "cell_type": "code",
   "execution_count": 2,
   "source": [
    "# load gene network\r\n",
    "gene_network = loadmat('data/genetics/geneNetwork_rawPCNCI.mat')\r\n",
    "A = gene_network['geneNetwork_rawPCNCI'].astype(np.int32)"
   ],
   "outputs": [],
   "metadata": {}
  },
  {
   "cell_type": "code",
   "execution_count": 3,
   "source": [
    "# load signal dataset \r\n",
    "signals = loadmat('data/genetics/signal_mutation.mat')\r\n",
    "X = signals['signal_mutation']\r\n",
    "\r\n",
    "# load phenotypes (labels)\r\n",
    "phenotypes = loadmat('data/genetics/histology_subtype.mat')\r\n",
    "y = phenotypes['histology_subtype']\r\n",
    "\r\n",
    "'Shapes: A: {}, X: {}, y: {}'.format(A.shape, X.shape, y.shape)"
   ],
   "outputs": [
    {
     "output_type": "execute_result",
     "data": {
      "text/plain": [
       "'Shapes: A: (2458, 2458), X: (240, 2458), y: (240, 1)'"
      ]
     },
     "metadata": {},
     "execution_count": 3
    }
   ],
   "metadata": {}
  },
  {
   "cell_type": "markdown",
   "source": [
    "## a) Distinguishing power"
   ],
   "metadata": {}
  },
  {
   "cell_type": "code",
   "execution_count": 17,
   "source": [
    "# Compute Laplacian as shift matrix\r\n",
    "D = np.diag(A.sum(axis=1))\r\n",
    "L = D - A\r\n",
    "S = L\r\n",
    "\r\n",
    "# Diagonalize S\r\n",
    "w, V = [x.real for x in eig(S)] # imag parts are float errors\r\n",
    "Vinv = inv(V)\r\n",
    "W = np.diag(w)\r\n",
    "\r\n",
    "# verify diagonalization (should be near 0, due to float errors)\r\n",
    "print('L1 norm between L and V @ W @ V.T: {}'.format((L - np.dot(np.dot(V, W), V.T)).sum()))"
   ],
   "outputs": [
    {
     "output_type": "stream",
     "name": "stdout",
     "text": [
      "L1 norm between L and V @ W @ V.T: 2.964953495160601e-11\n"
     ]
    }
   ],
   "metadata": {}
  },
  {
   "cell_type": "code",
   "execution_count": 18,
   "source": [
    "x_gft = X @ V # same as V.T @ x_i; x_gft[i, j] is coefficient of jth freq for ith sample"
   ],
   "outputs": [],
   "metadata": {}
  },
  {
   "cell_type": "code",
   "execution_count": 61,
   "source": [
    "# label masks\r\n",
    "mask_1 = (y == 1).astype(int)\r\n",
    "mask_2 = (y == 2).astype(int)\r\n",
    "\r\n",
    "# mean filter for each label\r\n",
    "mean_1 = mask_1 / mask_1.sum()\r\n",
    "mean_2 = mask_2 / mask_2.sum()\r\n",
    "\r\n",
    "# L1 norm of each frequency\r\n",
    "k_L1 = np.linalg.norm(x_gft, ord=1, axis=0).reshape((x_gft.shape[1], 1))"
   ],
   "outputs": [],
   "metadata": {}
  },
  {
   "cell_type": "code",
   "execution_count": 68,
   "source": [
    "DP = np.absolute((x_gft.T @ mean_1) - (x_gft.T @ mean_2)) / k_L1"
   ],
   "outputs": [],
   "metadata": {}
  },
  {
   "cell_type": "code",
   "execution_count": 75,
   "source": [
    "plt.scatter(range(DP.shape[0]), DP)\r\n",
    "plt.xlabel('k')\r\n",
    "plt.ylabel('DP(v_k)')\r\n",
    "plt.title('DP(v_k) vs. k for all GFT e-vectors')"
   ],
   "outputs": [
    {
     "output_type": "execute_result",
     "data": {
      "text/plain": [
       "Text(0.5, 1.0, 'DP(v_k) vs. k for all GFT e-vectors')"
      ]
     },
     "metadata": {},
     "execution_count": 75
    },
    {
     "output_type": "display_data",
     "data": {
      "image/png": "[encoded data removed]",
      "text/plain": [
       "<Figure size 432x288 with 1 Axes>"
      ]
     },
     "metadata": {
      "needs_background": "light"
     }
    }
   ],
   "metadata": {}
  }
 ],
 "metadata": {
  "orig_nbformat": 4,
  "language_info": {
   "name": "python",
   "version": "3.9.5",
   "mimetype": "text/x-python",
   "codemirror_mode": {
    "name": "ipython",
    "version": 3
   },
   "pygments_lexer": "ipython3",
   "nbconvert_exporter": "python",
   "file_extension": ".py"
  },
  "kernelspec": {
   "name": "python3",
   "display_name": "Python 3.9.5 64-bit ('working': conda)"
  },
  "interpreter": {
   "hash": "0d1c77bf9a7c40408fa6fc0f3c3b14744a3f0c1eeb958fbe919f29b68234122c"
  }
 },
 "nbformat": 4,
 "nbformat_minor": 2
}