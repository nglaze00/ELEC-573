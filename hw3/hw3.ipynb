{
 "cells": [
  {
   "cell_type": "code",
   "execution_count": 5,
   "metadata": {},
   "outputs": [],
   "source": [
    "import networkx as nx\n",
    "import numpy as np\n",
    "import matplotlib.pyplot as plt\n",
    "from collections import Counter"
   ]
  },
  {
   "cell_type": "markdown",
   "metadata": {},
   "source": [
    "# 1. ER phase transitions"
   ]
  },
  {
   "cell_type": "markdown",
   "metadata": {},
   "source": [
    "## a) ER graph component sizes"
   ]
  },
  {
   "cell_type": "code",
   "execution_count": 11,
   "metadata": {},
   "outputs": [],
   "source": [
    "def analyze_er_graph_components(n, p_range, graphs_per_p=20):\n",
    "    means, sds = [], []\n",
    "    for p in p_range:\n",
    "        print('Analyzing ER graphs for p={}'.format(p))\n",
    "        comp_sizes = []\n",
    "        for i in range(graphs_per_p):\n",
    "            G = nx.generators.fast_gnp_random_graph(n, p, seed=i)\n",
    "            comp_sizes.append(max([len(comp) for comp in nx.connected_components(G)]))\n",
    "        means.append(np.mean(comp_sizes))\n",
    "        sds.append(np.std(comp_sizes))\n",
    "\n",
    "    return np.array(means), np.array(sds)\n"
   ]
  },
  {
   "cell_type": "code",
   "execution_count": 12,
   "metadata": {},
   "outputs": [
    {
     "name": "stdout",
     "output_type": "stream",
     "text": [
      "Analyzing ER graphs for p=1e-05\n",
      "Analyzing ER graphs for p=1.438449888287663e-05\n",
      "Analyzing ER graphs for p=2.06913808111479e-05\n",
      "Analyzing ER graphs for p=2.9763514416313192e-05\n",
      "Analyzing ER graphs for p=4.281332398719396e-05\n",
      "Analyzing ER graphs for p=6.158482110660267e-05\n",
      "Analyzing ER graphs for p=8.858667904100833e-05\n",
      "Analyzing ER graphs for p=0.00012742749857031334\n",
      "Analyzing ER graphs for p=0.00018329807108324357\n",
      "Analyzing ER graphs for p=0.00026366508987303583\n",
      "Analyzing ER graphs for p=0.000379269019073225\n",
      "Analyzing ER graphs for p=0.0005455594781168515\n",
      "Analyzing ER graphs for p=0.0007847599703514606\n",
      "Analyzing ER graphs for p=0.0011288378916846883\n",
      "Analyzing ER graphs for p=0.001623776739188721\n",
      "Analyzing ER graphs for p=0.002335721469090121\n",
      "Analyzing ER graphs for p=0.003359818286283781\n",
      "Analyzing ER graphs for p=0.004832930238571752\n",
      "Analyzing ER graphs for p=0.0069519279617756054\n",
      "Analyzing ER graphs for p=0.01\n"
     ]
    }
   ],
   "source": [
    "n = 5000\n",
    "p_range = np.logspace(-5, -2, num=20)\n",
    "means, sds = analyze_er_graph_components(n, p_range)"
   ]
  },
  {
   "cell_type": "code",
   "execution_count": 13,
   "metadata": {},
   "outputs": [],
   "source": [
    "def plot_with_sds(x, y, y_sds, n=5_000):\n",
    "    plt.plot(x, y)\n",
    "    plt.plot(x, y - y_sds, c='green', linestyle='dashed')\n",
    "    plt.plot(x, y + y_sds, c='red', linestyle='dashed')\n",
    "\n",
    "    # plot vertical lines at 1 / n and ln(n) / n\n",
    "    plt.vlines(1 / n, 0, 100, linestyle='dotted', colors='gray')\n",
    "    plt.vlines(np.log(n) / n, 0, 4900, linestyle='dotted', colors='black')\n",
    "\n",
    "    plt.yscale('log')\n",
    "    plt.xscale('log')\n",
    "    plt.title('Mean largest component size for ER graphs')\n",
    "    plt.xlabel('p (log scale)')\n",
    "    plt.ylabel('Mean component size (log scale)')\n",
    "    plt.legend(['Mean', 'Mean + SD', 'MEan - SD', '1 / n', 'ln(n) / n'])"
   ]
  },
  {
   "cell_type": "code",
   "execution_count": 14,
   "metadata": {},
   "outputs": [
    {
     "data": {
      "image/png": "[encoded data removed]",
      "text/plain": [
       "<Figure size 432x288 with 1 Axes>"
      ]
     },
     "metadata": {
      "needs_background": "light"
     },
     "output_type": "display_data"
    }
   ],
   "source": [
    "plot_with_sds(p_range, means, sds)"
   ]
  },
  {
   "cell_type": "markdown",
   "metadata": {},
   "source": [
    "## b) Interesting values of p"
   ]
  },
  {
   "cell_type": "markdown",
   "metadata": {},
   "source": [
    "From class, we have that when p = lambda / n, lambda > 1 makes the largest component size converge to n, while lambda < 1 makes it converge to ln(n). Here, lambda = 1 represents a point at which the largest component size is transitioning rapidly, as it has the graph's peak slope. Also, I notice that as lambda shrinks less than 1, the size remains low (near ln(n) ~= 8), while as lambda grows above 1, the size approaches n.\n",
    "\n",
    "Also, we have that when p = lambda * ln(n) / n, lambda < 1 makes the graph's probability of being connected converge to 0, while lambda > 1 makes it converge to 1. Here, to the left of ln(n) / n (i.e. lambda > 1), the mean component size has not yet converged to n, but to the right, the mean is equal to n and the standard deviation is 0, meaning that, as expected, all sampled graphs converge to being connected. "
   ]
  },
  {
   "cell_type": "markdown",
   "metadata": {},
   "source": [
    "# 2. Fitting power-law exponents"
   ]
  },
  {
   "cell_type": "markdown",
   "metadata": {},
   "source": [
    "## b) Pareto sampling"
   ]
  },
  {
   "cell_type": "code",
   "execution_count": 15,
   "metadata": {},
   "outputs": [],
   "source": [
    "def sample_pareto(alpha=1, x_0=1, size=100_000):\n",
    "    pareto_func = np.vectorize(lambda u:  x_0 / u**(1 / alpha))\n",
    "    u_samples = np.random.sample(size=size)\n",
    "    return pareto_func(u_samples)\n",
    "\n",
    "def compute_pdf(samples):\n",
    "    samples_ints = np.round(samples, decimals=0)\n",
    "    samples_int_counts = Counter(samples_ints)\n",
    "    x = np.array(sorted(samples_int_counts.keys()))\n",
    "    px_x = np.array([samples_int_counts[k] for k in x])\n",
    "    px_x = px_x / px_x.sum()\n",
    "    return x, px_x\n",
    "\n",
    "def compute_ccdf(x, px_x):\n",
    "    s = 0\n",
    "    fbarx_x = np.zeros(px_x.shape)\n",
    "    for i in range(len(x) - 1, -1, -1):\n",
    "        s += px_x[i]\n",
    "        fbarx_x[i] = s\n",
    "    \n",
    "    return x, fbarx_x\n",
    "\n",
    "def plot_observations(x, y, alpha=1):\n",
    "    plt.scatter(x, y, s=5)\n",
    "    plt.xscale('log')\n",
    "    plt.yscale('log')\n",
    "    y_expected = 1 / x ** (alpha + 1)\n",
    "    plt.plot(x[y_expected >= 1e-5], y_expected[y_expected >= 1e-5], c='green')\n",
    "    plt.title('Sampled and actual PDFs for Pareto distribution')\n",
    "    plt.legend(['Sampled', 'Actual'])\n",
    "    plt.xlabel('x (log scale)')\n",
    "    plt.ylabel('p(X = x) (log scale)')"
   ]
  },
  {
   "cell_type": "code",
   "execution_count": 16,
   "metadata": {},
   "outputs": [],
   "source": [
    "pareto = sample_pareto()\n",
    "x, px_x = compute_pdf(pareto)"
   ]
  },
  {
   "cell_type": "code",
   "execution_count": 17,
   "metadata": {},
   "outputs": [],
   "source": [
    "x, fbarx_x = compute_ccdf(x, px_x)"
   ]
  },
  {
   "cell_type": "code",
   "execution_count": 18,
   "metadata": {},
   "outputs": [
    {
     "data": {
      "image/png": "[encoded data removed]",
      "text/plain": [
       "<Figure size 432x288 with 1 Axes>"
      ]
     },
     "metadata": {
      "needs_background": "light"
     },
     "output_type": "display_data"
    }
   ],
   "source": [
    "plot_observations(x, px_x)"
   ]
  },
  {
   "cell_type": "markdown",
   "metadata": {},
   "source": [
    "## d) Estimating alpha"
   ]
  },
  {
   "cell_type": "code",
   "execution_count": 7,
   "metadata": {},
   "outputs": [],
   "source": [
    "def estimate_alpha_pdf_ls(samples):\n",
    "    x, p_x = compute_pdf(samples)\n",
    "\n",
    "    x_log = np.log(x.reshape((x.shape[0], 1)))\n",
    "    y_log = np.log(p_x)\n",
    "    \n",
    "    alpha_pred = -np.linalg.lstsq(x_log, y_log, rcond=None)[0] - 1\n",
    "    return alpha_pred\n",
    "\n",
    "def estimate_alpha_ccdf_ls(samples):\n",
    "    x, px_x = compute_pdf(samples)\n",
    "    x, fbarx_x = compute_ccdf(x, px_x)\n",
    "\n",
    "    x_log = np.log(x.reshape((x.shape[0], 1)))\n",
    "    y_log = np.log(fbarx_x)\n",
    "    \n",
    "    # integrating the PDF gives line with slope -alpha\n",
    "    alpha_pred = -np.linalg.lstsq(x_log, y_log, rcond=None)[0]\n",
    "    \n",
    "    return alpha_pred\n",
    "\n",
    "def estimate_alpha_mle(samples, x_0=1):\n",
    "    n = len(samples)\n",
    "    \n",
    "    # from c), MLE is alpha = n / (sum_i(log(x_i)) - (n * log(x_0)))\n",
    "    return n / (np.log(samples).sum() - (n * np.log(x_0)))\n",
    "\n",
    "def eval_alpha_estimate(estimate_alpha, name, samples=100):\n",
    "    preds = []\n",
    "    for _ in range(samples):\n",
    "        samples = sample_pareto()\n",
    "        preds.append(estimate_alpha(samples))\n",
    "    m, sd = np.mean(preds), np.std(preds)\n",
    "    print('{}:'.format(name))\n",
    "    print('Mean: {}, SD: {}'.format(m, sd))\n"
   ]
  },
  {
   "cell_type": "code",
   "execution_count": 8,
   "metadata": {},
   "outputs": [
    {
     "name": "stdout",
     "output_type": "stream",
     "text": [
      "Least-squares on PDF:\n",
      "Mean: 0.7535055686849037, SD: 0.01445416636769601\n"
     ]
    }
   ],
   "source": [
    "eval_alpha_estimate(estimate_alpha_pdf_ls, 'Least-squares on PDF');"
   ]
  },
  {
   "cell_type": "code",
   "execution_count": 9,
   "metadata": {},
   "outputs": [
    {
     "name": "stdout",
     "output_type": "stream",
     "text": [
      "Least-squares on CCDF:\n",
      "Mean: 0.9985720588961311, SD: 0.010272736553571053\n"
     ]
    }
   ],
   "source": [
    "eval_alpha_estimate(estimate_alpha_ccdf_ls, 'Least-squares on CCDF');"
   ]
  },
  {
   "cell_type": "code",
   "execution_count": 10,
   "metadata": {},
   "outputs": [
    {
     "name": "stdout",
     "output_type": "stream",
     "text": [
      "Log-likelihood maximization:\n",
      "Mean: 1.0003310052420762, SD: 0.0032189410484160037\n"
     ]
    }
   ],
   "source": [
    "eval_alpha_estimate(estimate_alpha_mle, 'Log-likelihood maximization');"
   ]
  },
  {
   "cell_type": "markdown",
   "metadata": {},
   "source": [
    "Least-squares regression on the PDF gives a very poor result (25% too small), while least-squares on the CCDF and the log-likelihood MLE both give results very close to the true value. The MLE is closer to the true value than CCDF least-squares by one order of magnitude, and has a smaller standard deviation, so I'd say that the MLE gives the best estimate. "
   ]
  }
 ],
 "metadata": {
  "interpreter": {
   "hash": "0d1c77bf9a7c40408fa6fc0f3c3b14744a3f0c1eeb958fbe919f29b68234122c"
  },
  "kernelspec": {
   "display_name": "Python 3.9.5 64-bit ('working': conda)",
   "name": "python3"
  },
  "language_info": {
   "codemirror_mode": {
    "name": "ipython",
    "version": 3
   },
   "file_extension": ".py",
   "mimetype": "text/x-python",
   "name": "python",
   "nbconvert_exporter": "python",
   "pygments_lexer": "ipython3",
   "version": "3.9.5"
  },
  "orig_nbformat": 4
 },
 "nbformat": 4,
 "nbformat_minor": 2
}
